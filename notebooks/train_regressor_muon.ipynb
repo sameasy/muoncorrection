{
 "cells": [
  {
   "cell_type": "code",
   "execution_count": null,
   "metadata": {
    "collapsed": true,
    "nbpresent": {
     "id": "0a248537-a46f-4db0-b91f-c9fcb1827f63"
    }
   },
   "outputs": [],
   "source": [
    "import pandas as pd\n",
    "import numpy as np\n",
    "import matplotlib.pyplot as plt\n",
    "import keras\n",
    "from keras.models import Sequential\n",
    "from keras.layers import Dense\n",
    "from keras.layers import Dropout\n",
    "from keras.utils.np_utils import to_categorical\n",
    "from keras.utils import plot_model\n",
    "from keras import regularizers\n",
    "from sklearn.metrics import roc_curve, auc\n",
    "from keras.layers import Activation\n",
    "from keras import backend as K"
   ]
  },
  {
   "cell_type": "code",
   "execution_count": null,
   "metadata": {
    "collapsed": true,
    "nbpresent": {
     "id": "159ee908-ee70-4719-bf31-e67da99e8c61"
    }
   },
   "outputs": [],
   "source": [
    "# load saved df\n",
    "df = pd.read_pickle('test.pkl')\n",
    "print (df.keys())"
   ]
  },
  {
   "cell_type": "code",
   "execution_count": null,
   "metadata": {
    "collapsed": true,
    "nbpresent": {
     "id": "e42911ea-1e5e-4460-830f-e3c48218d94b"
    }
   },
   "outputs": [],
   "source": [
    "# filter events\n",
    "df = df.loc[abs(df[b'hcal_ieta']) >= 24]\n",
    "df = df.loc[df[\"b'hcal_edepth2'_x\"] > 0.00001]\n",
    "df = df.loc[df[\"b'hcal_edepth2'_y\"] > 0.00001]"
   ]
  },
  {
   "cell_type": "code",
   "execution_count": null,
   "metadata": {
    "collapsed": true
   },
   "outputs": [],
   "source": [
    "# keep originals before scaling\n",
    "df['hcal_edepth1_un'] = df[\"b'hcal_edepth1'_x\"]\n",
    "df['hcal_edepth2_un'] = df[\"b'hcal_edepth2'_x\"]\n",
    "df['hcal_edepth3_un'] = df[\"b'hcal_edepth3'_x\"]\n",
    "df['hcal_edepth4_un'] = df[\"b'hcal_edepth4'_x\"]\n",
    "df['hcal_edepth5_un'] = df[\"b'hcal_edepth5'_x\"]\n",
    "df['hcal_edepth6_un'] = df[\"b'hcal_edepth6'_x\"]\n",
    "df['hcal_edepth7_un'] = df[\"b'hcal_edepth7'_x\"]\n",
    "\n",
    "df['hcal_ieta_un'] = df[b'hcal_ieta']"
   ]
  },
  {
   "cell_type": "code",
   "execution_count": null,
   "metadata": {
    "collapsed": true
   },
   "outputs": [],
   "source": [
    "# scaling input vars\n",
    "cols_to_minmax =[b'pt_of_muon',b'eta_of_muon',b'phi_of_muon',b'energy_of_muon',b'hcal_ieta',\n",
    "                b'hcal_iphi',     b'IsolationR04',     b'IsolationR03',\n",
    "                b'ecal_3into3',      b'hcal_3into3', \n",
    "                b'ecal_3x3',         b'hcal_1x1',\n",
    "               \"b'hcal_edepth1'_x\", \"b'hcal_edepth2'_x\", \"b'hcal_edepth3'_x\",\n",
    "               \"b'hcal_edepth4'_x\", \"b'hcal_edepth5'_x\", \"b'hcal_edepth6'_x\",\n",
    "               \"b'hcal_edepth7'_x\"]\n",
    "\n",
    "\n",
    "\n",
    "df[cols_to_minmax] = df[cols_to_minmax].apply(lambda x: (x - x.min()) /  (x.max() - x.min()))"
   ]
  },
  {
   "cell_type": "code",
   "execution_count": null,
   "metadata": {
    "collapsed": true
   },
   "outputs": [],
   "source": [
    "for i in (df.keys()):\n",
    "    #print (i)\n",
    "    plt.hist(df[i],bins=100,label=str(i),alpha=0.4)\n",
    "    plt.yscale(\"log\")\n",
    "    plt.legend()\n",
    "    plt.show()"
   ]
  },
  {
   "cell_type": "code",
   "execution_count": null,
   "metadata": {
    "collapsed": true,
    "nbpresent": {
     "id": "b4717cf1-c9f3-4ecd-a505-1eddfe074421"
    }
   },
   "outputs": [],
   "source": [
    "data = df.values\n",
    "ntest = 20000\n",
    "testindx = data.shape[0] - ntest\n",
    "X_train = data[:testindx,np.r_[0:12,13]]\n",
    "Y_train = data[:testindx,20]\n",
    "X_test = data[testindx:,:]\n",
    "print (X_test.shape) \n",
    "print (\"shape of X_train:\",X_train.shape)\n",
    "print (\"shape of Y_train:\",Y_train.shape)"
   ]
  },
  {
   "cell_type": "code",
   "execution_count": null,
   "metadata": {
    "collapsed": true,
    "nbpresent": {
     "id": "b867ec5d-fc25-4536-a353-4a87f1391ccb"
    }
   },
   "outputs": [],
   "source": [
    "# sample weights\n",
    "histoAR = Y_train.copy()\n",
    "nbins = 4 ### works best[4 with no sqrt / 500 with sqrt normed] / 1000 with norm*100 / 4000 ok no sqrt\n",
    "true_hist = np.histogram(histoAR,bins = nbins,range=(np.min(Y_train)-0.001,np.max(Y_train)+0.001))\n",
    "binweight = true_hist[0][np.digitize(histoAR,true_hist[1]) - 1]\n",
    "binweight = 1/binweight\n",
    "binweight = 100*binweight/np.sum(np.unique(binweight)) ## 5000/5 ok\n",
    "print(\"sum weight:\",np.sum(np.unique(binweight)))\n",
    "print(\"true_hist\",true_hist[0])\n",
    "print(\"binweight\",binweight)\n",
    "print(\"weight_vals:\",np.unique(binweight))\n",
    "plt.hist(histoAR,bins=nbins)\n",
    "for i in true_hist[1]:\n",
    "    plt.axvline(i,color='r')\n",
    "plt.yscale(\"log\")"
   ]
  },
  {
   "cell_type": "code",
   "execution_count": null,
   "metadata": {
    "collapsed": true,
    "nbpresent": {
     "id": "8454fc76-ae27-4d86-976c-3b901f311091"
    }
   },
   "outputs": [],
   "source": [
    "from keras.layers import LeakyReLU\n",
    "from keras import optimizers\n",
    "print (\"creating model=========>\")\n",
    "model = Sequential()\n",
    "\n",
    "\n",
    "model.add(Dense(50, input_shape=(X_train.shape[1],)))\n",
    "model.add(LeakyReLU(alpha=0.3))\n",
    "model.add(Dropout(0.2))\n",
    " \n",
    "model.add(Dense(600))\n",
    "model.add(LeakyReLU(alpha=0.3))\n",
    "model.add(Dropout(0.2))\n",
    "model.add(Dense(600))\n",
    "model.add(LeakyReLU(alpha=0.3))\n",
    "model.add(Dropout(0.2))\n",
    "model.add(Dense(10))\n",
    "model.add(LeakyReLU(alpha=0.3))\n",
    "model.add(Dropout(0.2))\n",
    "model.add(Dense(1))\n",
    "\n",
    "\n",
    "model.compile(loss='mse',optimizer='adam')\n",
    "model.summary()\n",
    "print (\"fitting now=========>\")\n",
    "history = model.fit(X_train,Y_train , batch_size=5000, epochs=2000, validation_split=0.2,\n",
    "                    verbose=1,sample_weight=binweight)\n"
   ]
  },
  {
   "cell_type": "code",
   "execution_count": null,
   "metadata": {
    "collapsed": true,
    "nbpresent": {
     "id": "0fa2e882-e055-4e19-879d-7447eaa36fcc"
    }
   },
   "outputs": [],
   "source": [
    "print(history.history.keys())\n",
    "# summarize history for accuracy\n",
    "plt.plot(history.history['loss'])\n",
    "plt.plot(history.history['val_loss'])\n",
    "plt.title('model loss')\n",
    "plt.ylabel('loss')\n",
    "plt.xlabel('epoch')\n",
    "plt.legend(['train', 'validation'], loc='upper left')\n",
    "plt.show()"
   ]
  },
  {
   "cell_type": "code",
   "execution_count": null,
   "metadata": {
    "collapsed": true
   },
   "outputs": [],
   "source": [
    "# evaluate model\n",
    "preds = model.predict(X_test[:,np.r_[0:12,13]])\n",
    "targets = X_test[:,20]\n",
    "uncorrected = X_test[:,27]\n",
    "\n",
    "targets = targets.reshape(targets.shape[0],1)\n",
    "uncorrected = uncorrected.reshape(uncorrected.shape[0],1)"
   ]
  },
  {
   "cell_type": "code",
   "execution_count": null,
   "metadata": {
    "collapsed": true
   },
   "outputs": [],
   "source": [
    "%matplotlib inline\n",
    "i=0\n",
    "plt.hist(targets[:,i], bins =100, range=(0,100),label='truth no PU',histtype='step',linewidth=1.5)\n",
    "plt.hist(preds[:,i], bins =100, range=(0,100),label='predicted',histtype='step',linewidth=1.5)\n",
    "plt.legend(loc='upper right')\n",
    "plt.show()"
   ]
  },
  {
   "cell_type": "code",
   "execution_count": null,
   "metadata": {
    "collapsed": true
   },
   "outputs": [],
   "source": [
    "#save model\n",
    "if not os.path.exists('models'):\n",
    "    os.makedirs('models')\n",
    "model.save('models/model.h5')"
   ]
  }
 ],
 "metadata": {
  "kernelspec": {
   "display_name": "Python 3",
   "language": "python",
   "name": "python3"
  },
  "language_info": {
   "codemirror_mode": {
    "name": "ipython",
    "version": 3
   },
   "file_extension": ".py",
   "mimetype": "text/x-python",
   "name": "python",
   "nbconvert_exporter": "python",
   "pygments_lexer": "ipython3",
   "version": "3.6.5"
  }
 },
 "nbformat": 4,
 "nbformat_minor": 2
}
