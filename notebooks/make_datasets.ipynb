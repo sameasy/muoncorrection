{
 "cells": [
  {
   "cell_type": "code",
   "execution_count": null,
   "metadata": {},
   "outputs": [],
   "source": [
    "import uproot\n",
    "import numpy as np\n",
    "import pandas as pd\n",
    "import matplotlib.pyplot as plt"
   ]
  },
  {
   "cell_type": "code",
   "execution_count": null,
   "metadata": {},
   "outputs": [],
   "source": [
    "# PU\n",
    "fName1='/eos/uscms/store/user/sghosh/ISOTRACK/MUON/Validation_PU.root'\n",
    "tree1 = uproot.open(fName1,xrootdsource=dict(chunkbytes=1024**3, limitbytes=1024**3))['hcalHBHEMuonHighEta/HBHEMuonHighEta']"
   ]
  },
  {
   "cell_type": "code",
   "execution_count": null,
   "metadata": {},
   "outputs": [],
   "source": [
    "#no PU\n",
    "fName2='/eos/uscms/store/user/sghosh/ISOTRACK/MUON/Validation_noPU.root'\n",
    "tree2 = uproot.open(fName2,xrootdsource=dict(chunkbytes=1024**3, limitbytes=1024**3))['hcalHBHEMuonHighEta/HBHEMuonHighEta']"
   ]
  },
  {
   "cell_type": "code",
   "execution_count": null,
   "metadata": {},
   "outputs": [],
   "source": [
    "print (tree1.numentries)\n",
    "print (tree2.numentries)"
   ]
  },
  {
   "cell_type": "code",
   "execution_count": null,
   "metadata": {
    "scrolled": true
   },
   "outputs": [],
   "source": [
    "branchespu = [b'Event_No',b'pt_of_muon',b'eta_of_muon',b'phi_of_muon', b'energy_of_muon',b'hcal_ieta', \n",
    "              b'hcal_iphi',b'MediumMuon',\n",
    "              b'IsolationR04', b'IsolationR03', b'ecal_3into3', b'hcal_3into3',b'ecal_3x3', b'ho_3into3',\n",
    "              b'hcal_1x1',\n",
    "              b'emaxNearP',b'hcal_edepth1',b'hcal_edepth2',b'hcal_edepth3',b'hcal_edepth4',b'hcal_edepth5',\n",
    "              b'hcal_edepth6',\n",
    "              b'hcal_edepth7',\n",
    "              ]\n",
    "\n",
    "branchesnpu = [b'Event_No',b'hcal_ieta', b'hcal_iphi',\n",
    "              b'hcal_edepth1',b'hcal_edepth2',b'hcal_edepth3',b'hcal_edepth4',b'hcal_edepth5',\n",
    "              b'hcal_edepth6',b'hcal_edepth7',\n",
    "              ]\n",
    "#dictn = tree.arrays(branches=branches,entrystart=0, entrystop=300)\n",
    "dictpu = tree1.arrays(branches=branchespu)\n",
    "dictnpu = tree2.arrays(branches=branchesnpu)"
   ]
  },
  {
   "cell_type": "code",
   "execution_count": null,
   "metadata": {},
   "outputs": [],
   "source": [
    "# function to flatten arrays \n",
    "# each event is a row ----> each muon is a row\n",
    "def flattenarray(dictpu):\n",
    "    newdict = {}\n",
    "    for k,v in dictpu.items():\n",
    "    #    print(k,v.flatten)\n",
    "       if  b'Event_No' not in k:\n",
    "            newdict[k] = v.flatten()\n",
    "\n",
    "    evtl = []\n",
    "    for i in (range((dictpu[b'Event_No'].shape[0]))):\n",
    "        toten = len(dictpu[b'hcal_ieta'][i])\n",
    "        for j in range(toten):\n",
    "           evtl.append(dictpu[b'Event_No'][i])\n",
    "        \n",
    "    newdict[b'Event_No'] = np.array(evtl)\n",
    "    return newdict"
   ]
  },
  {
   "cell_type": "code",
   "execution_count": null,
   "metadata": {},
   "outputs": [],
   "source": [
    "# flatten -> dataframe\n",
    "dictpuflat = flattenarray(dictpu)\n",
    "dictnpuflat = flattenarray(dictnpu)\n",
    "dfspu = pd.DataFrame.from_dict(dictpuflat)\n",
    "dfsnpu = pd.DataFrame.from_dict(dictnpuflat)"
   ]
  },
  {
   "cell_type": "code",
   "execution_count": null,
   "metadata": {},
   "outputs": [],
   "source": [
    "# find same muon from both files\n",
    "merged = pd.merge(dfspu, dfsnpu , on=[b'Event_No',b'hcal_ieta', b'hcal_iphi'])\n",
    "print (\"selected events before cut:\",merged.shape[0])\n",
    "cuts = (merged[b'MediumMuon'])\n",
    "merged=merged.loc[cuts]\n",
    "merged = merged.reset_index(drop=True)\n",
    "print (\"selected events after cut:\",merged.shape[0])\n"
   ]
  },
  {
   "cell_type": "code",
   "execution_count": null,
   "metadata": {},
   "outputs": [],
   "source": [
    "# which vars to keep in df\n",
    "keepvars = [b'pt_of_muon',b'eta_of_muon',b'phi_of_muon', b'energy_of_muon',b'hcal_ieta', \n",
    "            b'hcal_iphi',\n",
    "            b'IsolationR04', b'IsolationR03', b'ecal_3into3', b'hcal_3into3',\n",
    "            b'ecal_3x3',b'hcal_1x1',\n",
    "              \n",
    "            \"b'hcal_edepth1'_x\",\"b'hcal_edepth2'_x\",\"b'hcal_edepth3'_x\",\"b'hcal_edepth4'_x\",\n",
    "            \"b'hcal_edepth5'_x\",\"b'hcal_edepth6'_x\",\"b'hcal_edepth7'_x\",\n",
    "            \"b'hcal_edepth1'_y\",\"b'hcal_edepth2'_y\",\"b'hcal_edepth3'_y\",\"b'hcal_edepth4'_y\",\n",
    "            \"b'hcal_edepth5'_y\",\"b'hcal_edepth6'_y\",\"b'hcal_edepth7'_y\"\n",
    "              ]\n",
    "final_df = merged[keepvars]"
   ]
  },
  {
   "cell_type": "code",
   "execution_count": null,
   "metadata": {},
   "outputs": [],
   "source": [
    "# save dataframe\n",
    "final_df.to_pickle(\"test.pkl\")"
   ]
  }
 ],
 "metadata": {
  "kernelspec": {
   "display_name": "Python 3",
   "language": "python",
   "name": "python3"
  },
  "language_info": {
   "codemirror_mode": {
    "name": "ipython",
    "version": 3
   },
   "file_extension": ".py",
   "mimetype": "text/x-python",
   "name": "python",
   "nbconvert_exporter": "python",
   "pygments_lexer": "ipython3",
   "version": "3.6.5"
  }
 },
 "nbformat": 4,
 "nbformat_minor": 2
}
